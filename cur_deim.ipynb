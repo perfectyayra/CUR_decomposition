{
 "cells": [
  {
   "cell_type": "code",
   "execution_count": 1,
   "metadata": {},
   "outputs": [],
   "source": [
    "'''CUR_DEIM  DEIM incurred CUR decomposition\n",
    "   Reference: Embree and Sorensen, 2016\n",
    "   Perfect Gidisu'''\n",
    "\n",
    "import numpy as np\n",
    "\n",
    "def cur_deim(A,r):\n",
    "    # A is the input matrix (dataset)\n",
    "    # r is the desired rank\n",
    "    m=A.shape[0]\n",
    "    n=A.shape[1]\n",
    "    if ((r>m) or (r>n)):\n",
    "        print(\"error: desired rank greater than dimensions of input matrix\")\n",
    "        return;\n",
    "    u, s, vh = np.linalg.svd(A,full_matrices=True)\n",
    "    U = u[:, :r]\n",
    "    V= np.transpose(vh)\n",
    "    V=V[:, :r]\n",
    "    irow=[]\n",
    "    icol=[]\n",
    "    for i in range(0,r):\n",
    "        row_i=np.where(abs(U)==(max(abs(U[:,i]))))[0]\n",
    "        col_i=np.where(abs(V)==(max(abs(V[:,i]))))[0]\n",
    "        U[:,i+1:] = U[:,i+1:] - (U[:,0:i+1] @ (np.linalg.pinv(U[row_i,0:i+1])@ U[row_i,i+1:]))\n",
    "        V[:,i+1:] = V[:,i+1:] -( V[:,0:i+1] @ (np.linalg.pinv(V[col_i,0:i+1])@ V[col_i,i+1:]))\n",
    "        irow.append(row_i)\n",
    "        icol.append(col_i)\n",
    "    C=np.matrix(A[:,icol])\n",
    "    R=np.matrix(A[irow,:])\n",
    "    UU=np.linalg.pinv(C)@A@np.linalg.pinv(R)\n",
    "    CUR=C@UU@R\n",
    "    return C, UU, R, CUR,irow,icol\n",
    "    \n",
    "    "
   ]
  },
  {
   "cell_type": "code",
   "execution_count": null,
   "metadata": {},
   "outputs": [],
   "source": []
  }
 ],
 "metadata": {
  "kernelspec": {
   "display_name": "Python 3",
   "language": "python",
   "name": "python3"
  },
  "language_info": {
   "codemirror_mode": {
    "name": "ipython",
    "version": 3
   },
   "file_extension": ".py",
   "mimetype": "text/x-python",
   "name": "python",
   "nbconvert_exporter": "python",
   "pygments_lexer": "ipython3",
   "version": "3.7.4"
  }
 },
 "nbformat": 4,
 "nbformat_minor": 2
}
